{
 "cells": [
  {
   "cell_type": "markdown",
   "metadata": {},
   "source": [
    "# Lecture 4 - Sequential Models & Introduction to Conditional Probability"
   ]
  },
  {
   "cell_type": "code",
   "execution_count": 2,
   "metadata": {},
   "outputs": [],
   "source": [
    "import matplotlib.pyplot as plt\n",
    "%matplotlib inline\n",
    "plt.style.use('seaborn-colorblind')\n",
    "\n",
    "import random\n",
    "import numpy as np\n",
    "import numpy.random as npr"
   ]
  },
  {
   "cell_type": "markdown",
   "metadata": {},
   "source": [
    "Last class we:\n",
    "\n",
    "1. Defined a **probabilistic model**, a mathematical description to characterize *uncertainty*. A probabilistic model is the triple $(\\Omega,\\mathcal{F},P)$, where $\\Omega$ is the sample space, $\\mathcal{F}$ is the event class and $P$ is a real-valued function that maps all elements of $\\mathcal{F}$ onto $\\mathbb{R}$."
   ]
  },
  {
   "cell_type": "markdown",
   "metadata": {},
   "source": [
    "2. Defined **axioms of probability**:\n",
    "    * $\\forall E\\in\\mathcal{F}, P(E)\\geq 0$\n",
    "    * $P(\\Omega)=1$\n",
    "    * $\\forall E, F \\in \\mathcal{F}, P(E\\cup F) = P(E) + P(F)$ if $E$ and $F$ are mutually exclusive, that is, $E\\cap F =\\emptyset$\n",
    "    * If $A_1,A_2,\\dots$ is a sequence of event such that $A_i\\cap A_j = \\emptyset \\forall i\\neq j$, then\n",
    "\n",
    "$$P\\left(\\bigcup_{k=1}^{\\infty} A_k\\right) = \\sum_{k=1}^{\\infty} P(A_k)$$"
   ]
  },
  {
   "cell_type": "markdown",
   "metadata": {},
   "source": [
    "3. Derived **corollaries** from these axioms:\n",
    "    * $P(A^c) = 1 - P(A)$\n",
    "    * $P(A) \\leq 1$\n",
    "    * $P(\\emptyset) = 0 $\n",
    "    * $P(A\\cup B) = P(A) + P(B) - P(A\\cap B)$\n",
    "    * If $A\\subset B$, then $P(A)\\leq P(B)$\n",
    "    * If $A_1,A_2,\\dots,A_n$ are pairwise mutually exclusive, then $P\\left(\\bigcup_{k=1}^n A_k\\right) = \\sum_{k=1}^n P(A_k)$. Proof is by induction.\n",
    "    * $P\\left(\\bigcup_{k=1}^n A_k\\right) = \\sum_{k=1}^n P(A_j) - \\sum_{j<k} P(A_j\\cap A_k) + \\dots + (-1)^{(n+1)}P(A_1\\cap A_2 \\cap \\dots\\cap A_n)$"
   ]
  },
  {
   "cell_type": "markdown",
   "metadata": {},
   "source": [
    "4. Learned that an experiment is **fair** if every outcome is equally likely."
   ]
  },
  {
   "cell_type": "markdown",
   "metadata": {},
   "source": [
    "5. Defined probability as a measure of frequency of occurrence (**frequetist view**). When the sample space $\\Omega$ has a finite number of equally likely outcomes, the probability of an event $E\\subset \\Omega$, is given by \n",
    "$$P(E) = \\frac{|E|}{|\\Omega|} = \\frac{\\text{number of elements in }E}{\\text{number of elements in }\\Omega}$$"
   ]
  },
  {
   "cell_type": "markdown",
   "metadata": {},
   "source": [
    "# Probabilistic Models"
   ]
  },
  {
   "cell_type": "markdown",
   "metadata": {},
   "source": [
    "## Discrete Sequential Models"
   ]
  },
  {
   "cell_type": "markdown",
   "metadata": {},
   "source": [
    "A **sequential model** is a type of experiment that has an inherent sequential character. For example:\n",
    "\n",
    "* Flipping a coin 3 times\n",
    "* Receiving eight successive digits at a communication receiver\n",
    "* Observing the value of a stock on five successive days"
   ]
  },
  {
   "cell_type": "markdown",
   "metadata": {},
   "source": [
    "This type of models are also characterized by probabilistic model that must obey the set of axioms and derived corollaries we introduced last class."
   ]
  },
  {
   "cell_type": "markdown",
   "metadata": {},
   "source": [
    "It is often useful to describe a sequential model experiment in a **tree-based sequential description**. "
   ]
  },
  {
   "cell_type": "markdown",
   "metadata": {},
   "source": [
    "**Let's use the virtual whiteboard to work through some examples to demonstrate the tree-based description of this type of experiments.**\n",
    "\n",
    "**<font color=blue>Example 1:</font>** Consider the experiment where we flip a fair coin 2 times.\n",
    "\n",
    "* What is the sample space? Remember that different elements of the sample space should be distinct and mutually exclusive.\n",
    "* What is the probability for each possible outcome?\n",
    "\n",
    "**<font color=blue>Example 2:</font>** Consider the experiment where we roll a 6-sided fair die 2 times and the event $E\\equiv$observing either a 1 or 2 on either roll.\n",
    "\n",
    "* What is the sample space?\n",
    "* What are the outcomes of event $E$?\n",
    "* What is the probability of event $E$?\n",
    "\n",
    "**<font color=blue>Example 3:</font>** Consider the experiment where we roll a 6-sided fair die 2 times and the event $E\\equiv$at least one roll is 4.\n",
    "\n",
    "* What is the sample space?\n",
    "* What are the outcomes of event $E$?\n",
    "* What is the probability of event $E$?\n",
    "\n",
    "**<font color=blue>Example 4:</font>** Consider the experiment where we flip a fair coin 3 times and the event $E\\equiv$observing heads in the 2nd flip.\n",
    "\n",
    "* What is the sample space?\n",
    "* What are the outcomes of event $E$?\n",
    "* What is the probability of event $E$?\n",
    "\n",
    "**<font color=blue>Example 5:</font>** Consider the experiment where we flip a fair coin 3 times, the sub-experiment of counting how many times is came up heads, and the event $E\\equiv$it came up heads 2 times.\n",
    "\n",
    "* What is the sample space of the experiment?\n",
    "* What is the sample space of the sub-experiment?\n",
    "* What are the outcomes of this sub-experiment?\n",
    "* What is the probability of event $E$?"
   ]
  },
  {
   "cell_type": "markdown",
   "metadata": {},
   "source": [
    "## Continuous Models"
   ]
  },
  {
   "cell_type": "markdown",
   "metadata": {},
   "source": [
    "The way that continuous models differ from discrete ones is that the probabilities of single-element events may not be sufficient to characterize the probability law.\n",
    "\n",
    "**For example:** a wheel of fortune is continuously calibrated from 0 to 1, so the possible outcomes of an experiment consisting of a single spin are the numbers in the interval $\\Omega=[0,1]$. \n",
    "* Assuming a fair wheel, it is appropriate to consider all outcomes equally likely, but what is the probability of the event consisting of a single element? say 0.472927028..?\n",
    "* If possible events are mutually exclusive, then using the 3rd axiom of probability (also called the **Additivity axiom**), it would follow that events with a sufficiently large number of elements would have probability larger than 1.\n",
    "* Therefore, the probability of any event that consists of a single element **must** be 0.\n",
    "* It makes sense then to assign a probability of $b-1$ to any sub-interval $[a,b]$ of $[0,1]$, and to calculate the probability of a more complicated set by evaluating its \"length\". This satisfies all axioms of probability and qualifies as a legitimate probability model."
   ]
  },
  {
   "cell_type": "markdown",
   "metadata": {},
   "source": [
    "### Coming back to Discrete Sequential Models\n",
    "\n",
    "Let's make some simulations:"
   ]
  },
  {
   "cell_type": "markdown",
   "metadata": {},
   "source": [
    "**<font color=orange>Example 1:</font>** Consider the experiment where we flip a fair coin 2 times."
   ]
  },
  {
   "cell_type": "code",
   "execution_count": 10,
   "metadata": {},
   "outputs": [
    {
     "data": {
      "text/plain": [
       "Text(0.5, 0, 'Sample space')"
      ]
     },
     "execution_count": 10,
     "metadata": {},
     "output_type": "execute_result"
    },
    {
     "data": {
      "image/png": "[encoded data removed]",
      "text/plain": [
       "<Figure size 432x288 with 1 Axes>"
      ]
     },
     "metadata": {
      "needs_background": "light"
     },
     "output_type": "display_data"
    }
   ],
   "source": [
    "num_sims=100\n",
    "faces = ['H', 'T']\n",
    "\n",
    "results = random.choices(faces, k=num_sims)\n",
    "vals, counts = np.unique(results, return_counts=True)\n",
    "\n",
    "plt.bar(vals, counts/num_sims)\n",
    "plt.xlabel('Sample space', fontsize = 15)"
   ]
  },
  {
   "cell_type": "code",
   "execution_count": 22,
   "metadata": {},
   "outputs": [
    {
     "name": "stdout",
     "output_type": "stream",
     "text": [
      "probability of getting 1 or a 2 when rolling a fair 6 sided die = 0.3255\n",
      "Analytical probability is P(1)+P(2) = 0.3333333333333333\n"
     ]
    }
   ],
   "source": [
    "num_sims=10000\n",
    "die = npr.randint(1, 7, size=num_sims)\n",
    "\n",
    "np.sum(die <=2)\n",
    "\n",
    "print('probability of getting 1 or a 2 when rolling a fair 6 sided die =',np.sum(die <=2)/num_sims)\n",
    "print('Analytical probability is P(1)+P(2) =', 2/6)"
   ]
  },
  {
   "cell_type": "markdown",
   "metadata": {},
   "source": [
    "**<font color=orange>Example 2, prep:</font>** Consider the experiment where we roll a 6-sided fair die and the event $E\\equiv$observing a 1 or 2."
   ]
  },
  {
   "cell_type": "code",
   "execution_count": 19,
   "metadata": {
    "scrolled": true
   },
   "outputs": [
    {
     "data": {
      "text/plain": [
       "array([3, 2, 3, ..., 5, 4, 3])"
      ]
     },
     "execution_count": 19,
     "metadata": {},
     "output_type": "execute_result"
    }
   ],
   "source": []
  },
  {
   "cell_type": "code",
   "execution_count": 20,
   "metadata": {},
   "outputs": [
    {
     "data": {
      "text/plain": [
       "3343"
      ]
     },
     "execution_count": 20,
     "metadata": {},
     "output_type": "execute_result"
    }
   ],
   "source": []
  },
  {
   "cell_type": "code",
   "execution_count": 21,
   "metadata": {},
   "outputs": [
    {
     "name": "stdout",
     "output_type": "stream",
     "text": [
      "probability of getting 1 or a 2 when rolling a fair 6 sided die = 0.3343\n",
      "Analytical probability is P(1)+P(2) = 0.3333333333333333\n"
     ]
    }
   ],
   "source": []
  },
  {
   "cell_type": "markdown",
   "metadata": {},
   "source": [
    "**<font color=orange>Example 2:</font>** Consider the experiment where we roll a 6-sided fair die 2 times and the event $E\\equiv$observing either a 1 or 2 on either roll."
   ]
  },
  {
   "cell_type": "code",
   "execution_count": null,
   "metadata": {},
   "outputs": [],
   "source": []
  },
  {
   "cell_type": "code",
   "execution_count": null,
   "metadata": {},
   "outputs": [],
   "source": []
  },
  {
   "cell_type": "markdown",
   "metadata": {},
   "source": [
    "**<font color=orange>Example 3:</font>** Consider the experiment where we roll a 6-sided fair die 2 times and the event $E\\equiv$at least one roll is 4."
   ]
  },
  {
   "cell_type": "code",
   "execution_count": null,
   "metadata": {},
   "outputs": [],
   "source": []
  },
  {
   "cell_type": "markdown",
   "metadata": {},
   "source": [
    "**<font color=orange>Example 4:</font>** Consider the experiment where we flip a fair coin 3 times and the event $E\\equiv$observing heads in the 2nd flip."
   ]
  },
  {
   "cell_type": "code",
   "execution_count": null,
   "metadata": {},
   "outputs": [],
   "source": []
  },
  {
   "cell_type": "markdown",
   "metadata": {},
   "source": [
    "**<font color=orange>Example 5:</font>** Consider the experiment where we flip a fair coin 3 times, the sub-experiment of counting how many times is came up heads, and the event $E\\equiv$it came up heads 2 times."
   ]
  },
  {
   "cell_type": "code",
   "execution_count": null,
   "metadata": {},
   "outputs": [],
   "source": []
  },
  {
   "cell_type": "markdown",
   "metadata": {},
   "source": [
    "## Introduction to Conditional Probability"
   ]
  },
  {
   "cell_type": "markdown",
   "metadata": {},
   "source": [
    "consider the following scenarios:\n",
    "\n",
    "1. **A magician has in her pocket a fair coin and a two-headed coin. She chooses one at random and flips it. What is the probability that the result is heads?**"
   ]
  },
  {
   "cell_type": "markdown",
   "metadata": {},
   "source": [
    "Let's compute this probability on the virtual whiteboard."
   ]
  },
  {
   "cell_type": "markdown",
   "metadata": {},
   "source": [
    "Let's build a simulation to answer this:"
   ]
  },
  {
   "cell_type": "code",
   "execution_count": null,
   "metadata": {},
   "outputs": [],
   "source": []
  },
  {
   "cell_type": "code",
   "execution_count": null,
   "metadata": {},
   "outputs": [],
   "source": []
  },
  {
   "cell_type": "markdown",
   "metadata": {},
   "source": [
    "2. **What is the probability of observing heads in the second flip if we observed heads in the second flip?**"
   ]
  },
  {
   "cell_type": "markdown",
   "metadata": {},
   "source": [
    "Let's compute this probability on the virtual whiteboard."
   ]
  },
  {
   "cell_type": "markdown",
   "metadata": {},
   "source": [
    "Let's build a simulation to answer this:"
   ]
  },
  {
   "cell_type": "code",
   "execution_count": null,
   "metadata": {},
   "outputs": [],
   "source": []
  },
  {
   "cell_type": "code",
   "execution_count": null,
   "metadata": {},
   "outputs": [],
   "source": []
  },
  {
   "cell_type": "markdown",
   "metadata": {},
   "source": [
    "This probability is called **conditional probability** as it provides us a way to reason about the outcome of an experiment, based on **partial information**."
   ]
  },
  {
   "cell_type": "markdown",
   "metadata": {},
   "source": [
    "For scenario 2, consider the event $H_i=$heads on flip i. We are asking what is the **probability of $H_2$ given $H_1$ occurred**, that is,\n",
    "\n",
    "$$P(H_2 | H_1) = \\frac{}{}$$"
   ]
  },
  {
   "cell_type": "markdown",
   "metadata": {},
   "source": [
    "Consider the Venn diagram:\n",
    "<div><img src=\"figures/condProb1.png\", width=\"300\"><!div>"
   ]
  },
  {
   "cell_type": "markdown",
   "metadata": {},
   "source": [
    "If we **condition** on $B$ having occurred, then we can form the new Venn diagram:\n",
    "<div><img src=\"figures/condProb2.png\", width=\"300\"><!div>"
   ]
  },
  {
   "cell_type": "markdown",
   "metadata": {},
   "source": [
    "This diagram suggests that if $A\\cap B=\\emptyset$ then if $B$ occurs, $A$ could not have occurred."
   ]
  },
  {
   "cell_type": "markdown",
   "metadata": {},
   "source": [
    "Similarly if $B\\subset A$, then if $B$ occurs, the diagram suggests that $A$ must have occurred."
   ]
  },
  {
   "cell_type": "markdown",
   "metadata": {},
   "source": [
    "A definition of conditional probability that agrees with these and other observations is:\n",
    "\n",
    "<div class=\"alert alert-info\" role=\"alert\">\n",
    "  <strong>Conditional Probability</strong>\n",
    "    \n",
    "For $A\\in\\mathcal{F}$, $B\\in\\mathcal{F}$, the **conditional probability** of event $A$ *given* event $B$ occurred is\n",
    "    \n",
    "$$P(A|B) = \\frac{P(A\\cap B)}{P(B)},\\text{ for }P(B)>0$$ \n",
    "</div>\n",
    "\n",
    "**Claim: If $P(B)>0$, the conditional probability $P(\\bullet|B)$ satisfies the axioms on the original sample space $(\\Omega,\\mathcal{F},P(\\bullet|B))$.**"
   ]
  },
  {
   "cell_type": "markdown",
   "metadata": {},
   "source": [
    "Before checking if the axioms of probability hold, let's take a look at another example:"
   ]
  },
  {
   "cell_type": "markdown",
   "metadata": {},
   "source": [
    "3. **A computer lab contains**\n",
    "\n",
    "    * **two computers from manufacturer A, one of which is defective**\n",
    "    * **three computers from manufacturer B, two of which are defective**\n",
    "    \n",
    "**A user sits down at a computer at random. Let the properties of the computer she sits down at be denoted by a two letter code, where the first letter is the manufacturer and the second letter is D for a defective computer or N for a non-defective computer. (We add a subscript to differentiate computers with the same two-letter code.)**"
   ]
  },
  {
   "cell_type": "markdown",
   "metadata": {},
   "source": [
    "* What is the sample space?\n",
    "\n",
    "$$\\Omega = \\{AD, AN, BD_1, BD_2, BN\\}$$"
   ]
  },
  {
   "cell_type": "markdown",
   "metadata": {},
   "source": [
    "Let\n",
    "* $E_A$ be the event that the selected computer is from manufacturer A\n",
    "* $E_B$ be the event that the selected computer is from manufacturer B\n",
    "* $E_D$ be the event that the selected computer is defective"
   ]
  },
  {
   "cell_type": "markdown",
   "metadata": {},
   "source": [
    "Let's find\n",
    "\n",
    "$$P(E_A) = \\frac{}{}$$\n",
    "\n",
    "$$P(E_B) = \\frac{}{}$$\n",
    "\n",
    "$$P(E_D) = \\frac{}{}$$"
   ]
  },
  {
   "cell_type": "markdown",
   "metadata": {},
   "source": [
    "Now, suppose that I select a computer and tell you its manufacturer. Does that influence the probability that the computer is defective?\n",
    "\n",
    "* For example, I tell you the computer is from manufacturer A. Then what is the probability that it is defective?\n",
    "\n",
    "$$P(E_D | E_A) = \\frac{P(E_D \\cap E_A)}{P(E_A)} = \\frac{}{}$$"
   ]
  },
  {
   "cell_type": "markdown",
   "metadata": {},
   "source": [
    "* Let's find:\n",
    "\n",
    "$$P(E_D | E_B) = \\frac{}{}$$\n",
    "\n",
    "$$P(E_A | E_D) = \\frac{}{}$$\n",
    "\n",
    "$$P(E_B | E_D) = \\frac{}{}$$"
   ]
  },
  {
   "cell_type": "markdown",
   "metadata": {},
   "source": [
    "# Short Assignment 1 - due before next class\n",
    "\n",
    "Suppose that you have 2 coins, one fair and another 2-headed. Consider the experiment where you select a coin at random and flip it once. What is the probability that the coin is the 2-headed coin *given that* the observed result is *Heads*?\n",
    "\n",
    "1. Write down, in equation form, the conditional probability that this problem is asking.\n",
    "2. Use the tree-based description to find out the analytical probability.\n",
    "3. Build a simulation to answer this question, and compare it with the analytical solution."
   ]
  },
  {
   "cell_type": "code",
   "execution_count": null,
   "metadata": {},
   "outputs": [],
   "source": []
  }
 ],
 "metadata": {
  "kernelspec": {
   "display_name": "Python 3",
   "language": "python",
   "name": "python3"
  },
  "language_info": {
   "codemirror_mode": {
    "name": "ipython",
    "version": 3
   },
   "file_extension": ".py",
   "mimetype": "text/x-python",
   "name": "python",
   "nbconvert_exporter": "python",
   "pygments_lexer": "ipython3",
   "version": "3.8.3"
  },
  "latex_envs": {
   "LaTeX_envs_menu_present": true,
   "autoclose": false,
   "autocomplete": true,
   "bibliofile": "biblio.bib",
   "cite_by": "apalike",
   "current_citInitial": 1,
   "eqLabelWithNumbers": true,
   "eqNumInitial": 1,
   "hotkeys": {
    "equation": "Ctrl-E",
    "itemize": "Ctrl-I"
   },
   "labels_anchors": false,
   "latex_user_defs": false,
   "report_style_numbering": false,
   "user_envs_cfg": false
  },
  "varInspector": {
   "cols": {
    "lenName": 16,
    "lenType": 16,
    "lenVar": 40
   },
   "kernels_config": {
    "python": {
     "delete_cmd_postfix": "",
     "delete_cmd_prefix": "del ",
     "library": "var_list.py",
     "varRefreshCmd": "print(var_dic_list())"
    },
    "r": {
     "delete_cmd_postfix": ") ",
     "delete_cmd_prefix": "rm(",
     "library": "var_list.r",
     "varRefreshCmd": "cat(var_dic_list()) "
    }
   },
   "types_to_exclude": [
    "module",
    "function",
    "builtin_function_or_method",
    "instance",
    "_Feature"
   ],
   "window_display": false
  }
 },
 "nbformat": 4,
 "nbformat_minor": 4
}
