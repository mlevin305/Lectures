{
 "cells": [
  {
   "cell_type": "markdown",
   "metadata": {
    "slideshow": {
     "slide_type": "slide"
    }
   },
   "source": [
    "# Sets and Set Operations"
   ]
  },
  {
   "cell_type": "markdown",
   "metadata": {
    "slideshow": {
     "slide_type": "fragment"
    }
   },
   "source": [
    "## Sets\n",
    "\n",
    "Generally we are not only interested in asking about the probabilities of **outcomes** but also the probabilities of **events**, which are combinations of outcomes.\n",
    "\n",
    "Each **event** is a *set*. So we need to know to do operations on sets."
   ]
  },
  {
   "cell_type": "markdown",
   "metadata": {
    "slideshow": {
     "slide_type": "subslide"
    }
   },
   "source": [
    "### Set Operations\n",
    "\n",
    "We will use the following basic operations and associated notation:"
   ]
  },
  {
   "cell_type": "markdown",
   "metadata": {
    "slideshow": {
     "slide_type": "subslide"
    }
   },
   "source": [
    "1. $A \\subset B$ (reads \"A is a subset of B\"):\n",
    "\n",
    "<div class=\"alert alert-info\">\n",
    "    <b>Subset Operator</b> \n",
    "\n",
    "The **subset operator** $\\subset$ is defined for two sets $A$ and $B$ by: \n",
    "$$A\\subset B\\text{ if } x\\in A \\Rightarrow x \\in B$$\n",
    "</div>"
   ]
  },
  {
   "cell_type": "markdown",
   "metadata": {
    "slideshow": {
     "slide_type": "fragment"
    }
   },
   "source": [
    "* Note that $A=B$ is included in $A\\subset B$, and\n",
    "    \n",
    "* $A=B$ if and only if $A\\subset B$ and $B\\subset A$ (this is useful for proofs)"
   ]
  },
  {
   "cell_type": "markdown",
   "metadata": {
    "slideshow": {
     "slide_type": "subslide"
    }
   },
   "source": [
    "2. $A \\cup B$ (reads \"A union B\" or \"A or B\"):\n",
    "\n",
    "<div class=\"alert alert-info\">\n",
    "<b>Union Operator</b> \n",
    "    \n",
    "The **union** of $A$ and $B$ is a set defined by: \n",
    "$$A\\cup B =\\left\\{x | x\\in A\\text{ or }x\\in B\\right\\}$$\n",
    "</div>"
   ]
  },
  {
   "cell_type": "markdown",
   "metadata": {
    "slideshow": {
     "slide_type": "subslide"
    }
   },
   "source": [
    "3. $A \\cap B$ (reads \"A intersect B\" or \"A and B\"):\n",
    "\n",
    "<div class=\"alert alert-info\">\n",
    "<b>Intersection Operator</b> \n",
    "    \n",
    "The **intersection** of $A$ and $B$ is a set defined by: \n",
    "$$A\\cap B = AB = \\left\\{x | x\\in A\\text{ and }x\\in B\\right\\}$$\n",
    "</div>\n"
   ]
  },
  {
   "cell_type": "markdown",
   "metadata": {
    "slideshow": {
     "slide_type": "subslide"
    }
   },
   "source": [
    "4. $A^c$ or $\\overline{A}$ (reads \"A complement\"):\n",
    "\n",
    "<div class=\"alert alert-info\">\n",
    "<b>Complement Operator</b> \n",
    "    \n",
    "The **complement** of a set $A$ in a sample space $\\Omega$ is defined by: \n",
    "$$A^c = \\overline{A} = \\left\\{x | x\\in \\Omega\\text{ and }x\\notin A\\right\\}$$\n",
    "</div>\n"
   ]
  },
  {
   "cell_type": "markdown",
   "metadata": {
    "slideshow": {
     "slide_type": "subslide"
    }
   },
   "source": [
    "* One of the fundamental tools for understanding set operations is the **Venn diagram** ([Wikipedia entry](https://en.wikipedia.org/wiki/Venn_diagram)).\n",
    "\n",
    "* The following tools are useful to help learn about Venn diagrams and set relations:\n",
    "    * [Khan Academy unit](https://www.khanacademy.org/math/statistics-probability/probability-librry/basic-set-ops/) on basic set operations\n",
    "    * Berkeley Statistics [visualization tool](http://www.stat.berkeley.edu/~stark/Java/Html/Venn.htm) for some simple set operations\n",
    "    * Once you have worked with those for a little bit, you may be ready to test yourself. Start with a [test of ability map from mathematical notation to a Venn diagram](http://nlvm.usu.edu/en/nav/frames_asid_153_g_3_t_1.html).\n",
    "    * Then try to [map from normal language on to the Venn diagram](http://www.slidermath.com/literacy/Venn.shtml)"
   ]
  },
  {
   "cell_type": "markdown",
   "metadata": {
    "slideshow": {
     "slide_type": "subslide"
    }
   },
   "source": [
    "**Use Venn diagrams to convince yourself of:**\n",
    "\n",
    "* $(A\\cap B) \\subset A$ and $(A\\cap B) \\subset B$\n",
    "* $\\overline{\\left(\\overline{A}\\right)} = A$\n",
    "* $A \\subset B \\Rightarrow \\overline{B} \\subset \\overline{A}$\n",
    "* $A \\cup \\overline{A} = \\Omega$\n",
    "* $\\overline{A\\cap B} = \\overline{A}\\cup\\overline{B}$ (DeMorgan's Law 1)\n",
    "* $\\overline{A\\cup B} = \\overline{A}\\cap\\overline{B}$ (DeMorgan's Law 2)"
   ]
  },
  {
   "cell_type": "markdown",
   "metadata": {
    "slideshow": {
     "slide_type": "subslide"
    }
   },
   "source": [
    "5. One of the most important relations for sets is when sets are **mutually exclusive**\n",
    "\n",
    "<div class=\"alert alert-info\">\n",
    "<b>Mutually Exclusivity</b> \n",
    "    \n",
    "Two sets $A$ and $B$ are said to be **mutually exclusive** or **disjoint** if and only if (iff) $A\\cap B = \\emptyset$\n",
    "</div>"
   ]
  },
  {
   "cell_type": "markdown",
   "metadata": {
    "slideshow": {
     "slide_type": "fragment"
    }
   },
   "source": [
    "<div class=\"alert alert-warning\">\n",
    "<b>Note: This is very important!</b> The word \"probability\" was not used in the mutual exclusive definition: mutually exclusivity is a $\\text{set relation}$ (regardless of how wikipedia presents it!).\n",
    "</div>"
   ]
  },
  {
   "cell_type": "markdown",
   "metadata": {
    "slideshow": {
     "slide_type": "subslide"
    }
   },
   "source": [
    "### Classification of Sets by Cardinality \n",
    "\n",
    "6. $|S|$ (reads \"cardinality of the set $S$\"):\n",
    "\n",
    "<div class=\"alert alert-info\">\n",
    "<b>Cardinality</b> \n",
    "    \n",
    "The **cardinality** of a set $S$, denoted $|S|$, is the number of elements in that set.\n",
    "</div>"
   ]
  },
  {
   "cell_type": "markdown",
   "metadata": {
    "slideshow": {
     "slide_type": "subslide"
    }
   },
   "source": [
    "Two sets have the same cardinality if there is a *bijection* (one-to-one mapping) between members of the two sets.\n",
    "* A bijection is a function that is one-to-one and onto\n",
    "\n",
    "Using this approach, if there is a bijection from a set $S$ to $\\left\\{1,2,\\cdots,N\\right\\}$, then $|S| = N$."
   ]
  },
  {
   "cell_type": "markdown",
   "metadata": {
    "slideshow": {
     "slide_type": "fragment"
    }
   },
   "source": [
    "For our purposes, we can use a set's cardinality to classify it as either:\n",
    "* *finite*,\n",
    "* *countably infinite* (or simply *countable*), or\n",
    "* *uncountably infinite* (or *uncountable*)"
   ]
  },
  {
   "cell_type": "markdown",
   "metadata": {
    "slideshow": {
     "slide_type": "subslide"
    }
   },
   "source": [
    "<div class=\"alert alert-info\">\n",
    "<b>Finite Set</b> \n",
    "\n",
    "A set $S$ is **finite** if $|S| = N < \\infty$\n",
    "</div>"
   ]
  },
  {
   "cell_type": "markdown",
   "metadata": {
    "slideshow": {
     "slide_type": "subslide"
    }
   },
   "source": [
    "<div class=\"alert alert-info\">\n",
    "<b>Countably Infinite Set</b> \n",
    "\n",
    "A set $S$ is **countably infinite** if $|S| = |\\mathcal{\\mathbb{Z}}|$, i.e., it can be put into one-to-one correspondence with the integers.\n",
    "</div>"
   ]
  },
  {
   "cell_type": "markdown",
   "metadata": {
    "slideshow": {
     "slide_type": "fragment"
    }
   },
   "source": [
    "* Examples:\n",
    "\n",
    "    * The Integers, $\\mathcal{\\mathbb{Z}}$ \n",
    "\n",
    "    * The Positive Integers, $\\mathcal{\\mathbb{Z}}^+$\n",
    "\n",
    "    * The Rationals, $\\mathcal{\\mathbb{Q}}$\n",
    "        * Watch this video: https://www.youtube.com/watch?v=sLUU6-vokXw\n",
    "        "
   ]
  },
  {
   "cell_type": "markdown",
   "metadata": {
    "slideshow": {
     "slide_type": "subslide"
    }
   },
   "source": [
    "<div class=\"alert alert-info\">\n",
    "<b>Uncountably Infinite Set</b> \n",
    "\n",
    "A set $S$ is **uncountably infinite** if $|S| > |\\mathcal{\\mathbb{Z}}|$.\n",
    "</div>"
   ]
  },
  {
   "cell_type": "markdown",
   "metadata": {
    "slideshow": {
     "slide_type": "fragment"
    }
   },
   "source": [
    "* Examples:\n",
    "\n",
    "    * The Real Line, $\\mathcal{\\mathbb{R}}$ \n",
    "\n",
    "    * The transcendental numbers (i.e., the numbers in $\\mathbb{R}$ that are not rationals) or roots of polynomials involving rationals!\n",
    "\n",
    "    * The Complex Numbers, $\\mathcal{\\mathbb{C}}$\n",
    "\n",
    "    * **Any interval**, finite or infinite"
   ]
  },
  {
   "cell_type": "markdown",
   "metadata": {
    "slideshow": {
     "slide_type": "subslide"
    }
   },
   "source": [
    "7. We can formally define an **interval** as follows:\n",
    "\n",
    "<div class=\"alert alert-info\">\n",
    "<b>Interval</b> \n",
    "\n",
    "If $a$ and $b$ ($b>a$) are in an **interval** $I$, then if $a \\leq x \\leq b$, $x\\in I$.\n",
    "</div>"
   ]
  },
  {
   "cell_type": "markdown",
   "metadata": {
    "slideshow": {
     "slide_type": "subslide"
    }
   },
   "source": [
    "* Intervals can be *open*, *closed*, or *half-open*:\n",
    "* A closed interval $[a,b]$ contains the endpoints of $a$ and $b$.\n",
    "* An open interval $(a,b)$ does not contain the endpoints of $a$ and $b$.\n",
    "* An interval can be half-open, such as $(a,b]$, which does not contain $a$, or $[a,b)$, which does not contain $b$.\n",
    "* Intervals can also be either finite, infinite, or partially infinite.\n",
    "* For our purposes of **assigning probabilities to sets**, we can treat finite and countably infinite sets together."
   ]
  },
  {
   "cell_type": "markdown",
   "metadata": {
    "slideshow": {
     "slide_type": "subslide"
    }
   },
   "source": [
    "8. We can classify sets as either *discrete* or *continuous*:\n",
    "\n",
    "<div class=\"alert alert-info\">\n",
    "<b>Discrete set</b> \n",
    "\n",
    "A **discrete set** is either finite or countably infinite.\n",
    "</div>\n",
    "\n",
    "<div class=\"alert alert-info\">\n",
    "<b>Continuous set</b> \n",
    "\n",
    "A **continuous set** is not countable.\n",
    "</div>"
   ]
  },
  {
   "cell_type": "code",
   "execution_count": null,
   "metadata": {
    "slideshow": {
     "slide_type": "subslide"
    }
   },
   "outputs": [],
   "source": []
  }
 ],
 "metadata": {
  "celltoolbar": "Slideshow",
  "kernelspec": {
   "display_name": "Python 3",
   "language": "python",
   "name": "python3"
  },
  "language_info": {
   "codemirror_mode": {
    "name": "ipython",
    "version": 3
   },
   "file_extension": ".py",
   "mimetype": "text/x-python",
   "name": "python",
   "nbconvert_exporter": "python",
   "pygments_lexer": "ipython3",
   "version": "3.8.3"
  },
  "latex_envs": {
   "LaTeX_envs_menu_present": true,
   "autoclose": false,
   "autocomplete": true,
   "bibliofile": "biblio.bib",
   "cite_by": "apalike",
   "current_citInitial": 1,
   "eqLabelWithNumbers": true,
   "eqNumInitial": 1,
   "hotkeys": {
    "equation": "Ctrl-E",
    "itemize": "Ctrl-I"
   },
   "labels_anchors": false,
   "latex_user_defs": false,
   "report_style_numbering": false,
   "user_envs_cfg": false
  },
  "varInspector": {
   "cols": {
    "lenName": 16,
    "lenType": 16,
    "lenVar": 40
   },
   "kernels_config": {
    "python": {
     "delete_cmd_postfix": "",
     "delete_cmd_prefix": "del ",
     "library": "var_list.py",
     "varRefreshCmd": "print(var_dic_list())"
    },
    "r": {
     "delete_cmd_postfix": ") ",
     "delete_cmd_prefix": "rm(",
     "library": "var_list.r",
     "varRefreshCmd": "cat(var_dic_list()) "
    }
   },
   "types_to_exclude": [
    "module",
    "function",
    "builtin_function_or_method",
    "instance",
    "_Feature"
   ],
   "window_display": false
  }
 },
 "nbformat": 4,
 "nbformat_minor": 4
}
