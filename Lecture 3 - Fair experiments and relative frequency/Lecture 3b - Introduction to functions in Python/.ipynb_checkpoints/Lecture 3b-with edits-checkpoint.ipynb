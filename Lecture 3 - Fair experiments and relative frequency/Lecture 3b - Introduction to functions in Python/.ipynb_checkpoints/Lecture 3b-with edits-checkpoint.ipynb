{
 "cells": [
  {
   "cell_type": "markdown",
   "metadata": {
    "slideshow": {
     "slide_type": "fragment"
    }
   },
   "source": [
    "# Introduction to Functions, Counting in Numpy, and Accelerating Simulations"
   ]
  },
  {
   "cell_type": "markdown",
   "metadata": {
    "slideshow": {
     "slide_type": "slide"
    }
   },
   "source": [
    "## 1. Introduction to Functions"
   ]
  },
  {
   "cell_type": "markdown",
   "metadata": {},
   "source": [
    "Let's consider the coin flip experiment with the sample space:"
   ]
  },
  {
   "cell_type": "code",
   "execution_count": 1,
   "metadata": {
    "slideshow": {
     "slide_type": "subslide"
    }
   },
   "outputs": [],
   "source": [
    "import random\n",
    "faces=['H','T']"
   ]
  },
  {
   "cell_type": "markdown",
   "metadata": {
    "slideshow": {
     "slide_type": "fragment"
    }
   },
   "source": [
    "Consider the simulation from last time for determining the relative frequency of getting 6 or fewer heads on 20 flips of a fair coin:"
   ]
  },
  {
   "cell_type": "code",
   "execution_count": 2,
   "metadata": {
    "slideshow": {
     "slide_type": "subslide"
    }
   },
   "outputs": [
    {
     "name": "stdout",
     "output_type": "stream",
     "text": [
      "Relative frequency of 6 or fewer heads is  0.057838\n"
     ]
    }
   ],
   "source": [
    "num_sims=1000000\n",
    "flips=20\n",
    "\n",
    "event_count=0\n",
    "for sim in range(num_sims):\n",
    "    coins=random.choices(faces, k=flips)\n",
    "    num_heads=coins.count('H')\n",
    "    if num_heads <= 6:\n",
    "        event_count+=1\n",
    "        \n",
    "print(\"Relative frequency of 6 or fewer heads is \", event_count/num_sims)"
   ]
  },
  {
   "cell_type": "markdown",
   "metadata": {
    "slideshow": {
     "slide_type": "subslide"
    }
   },
   "source": [
    "Let's consider how to further improve this code. \n",
    "\n",
    "We begin by turning this simulation into a **function**. \n",
    "\n",
    "* New functions in Python are defined using the ```def``` keyword, followed by the function name, the arguments in parentheses, and then a colon. The commands to be run in the function follow in an indented block.\n",
    "\n",
    "Note that it is helpful to know how to indent a whole block of code in Jupyter. Choose the Help->Keyboard Shortcuts menu and then look under the Edit Mode section for the Indent command. For instance, on the Mac, it is Command-].  When you want to turn a code block into a function, copy and paste it into a new cell and then indent it using the keyboard command. Then add the ```def``` statement above it.\n",
    "\n",
    "* It is easiest to understand through and example:"
   ]
  },
  {
   "cell_type": "code",
   "execution_count": 3,
   "metadata": {
    "slideshow": {
     "slide_type": "subslide"
    }
   },
   "outputs": [],
   "source": [
    "def coinsim(num_sims=1000000, flips=20, threshold=6):\n",
    "\n",
    "    event_count=0\n",
    "    for sim in range(num_sims):\n",
    "        coins=random.choices(faces, k=flips)\n",
    "        num_heads=coins.count('H')\n",
    "        if num_heads <= threshold:\n",
    "            event_count+=1\n",
    "\n",
    "    print(\"Relative frequency of \",threshold,\" or fewer heads is \", event_count/num_sims)"
   ]
  },
  {
   "cell_type": "markdown",
   "metadata": {
    "slideshow": {
     "slide_type": "subslide"
    }
   },
   "source": [
    "Now we can call the function by its name followed by parentheses. Since we have provided **default values** for all of the function's arguments, we do not have to even provide any arguments:"
   ]
  },
  {
   "cell_type": "code",
   "execution_count": 4,
   "metadata": {
    "slideshow": {
     "slide_type": "fragment"
    }
   },
   "outputs": [
    {
     "name": "stdout",
     "output_type": "stream",
     "text": [
      "Relative frequency of  6  or fewer heads is  0.05788\n"
     ]
    }
   ],
   "source": [
    "coinsim()"
   ]
  },
  {
   "cell_type": "markdown",
   "metadata": {},
   "source": [
    "We can pass arguments to the function according to their **position**, **keyword**, or both. For instance, to only run 100k simulations, we can do either of the following:"
   ]
  },
  {
   "cell_type": "code",
   "execution_count": 5,
   "metadata": {},
   "outputs": [
    {
     "name": "stdout",
     "output_type": "stream",
     "text": [
      "Relative frequency of  6  or fewer heads is  0.05819\n"
     ]
    }
   ],
   "source": [
    "coinsim(100000)"
   ]
  },
  {
   "cell_type": "code",
   "execution_count": 6,
   "metadata": {},
   "outputs": [
    {
     "name": "stdout",
     "output_type": "stream",
     "text": [
      "Relative frequency of  6  or fewer heads is  0.05765\n"
     ]
    }
   ],
   "source": [
    "coinsim(num_sims=100000)"
   ]
  },
  {
   "cell_type": "markdown",
   "metadata": {},
   "source": [
    "Keyword arguments can appear in any order and can appear after positional arguments:"
   ]
  },
  {
   "cell_type": "code",
   "execution_count": 7,
   "metadata": {},
   "outputs": [
    {
     "name": "stdout",
     "output_type": "stream",
     "text": [
      "Relative frequency of  4  or fewer heads is  0.03908\n"
     ]
    }
   ],
   "source": [
    "coinsim(100000, threshold=4, flips=16)"
   ]
  },
  {
   "cell_type": "markdown",
   "metadata": {},
   "source": [
    "However, positional arguments cannot follow keyword arguments:"
   ]
  },
  {
   "cell_type": "code",
   "execution_count": 8,
   "metadata": {},
   "outputs": [
    {
     "ename": "SyntaxError",
     "evalue": "positional argument follows keyword argument (<ipython-input-8-5b5963aef832>, line 1)",
     "output_type": "error",
     "traceback": [
      "\u001b[1;36m  File \u001b[1;32m\"<ipython-input-8-5b5963aef832>\"\u001b[1;36m, line \u001b[1;32m1\u001b[0m\n\u001b[1;33m    coinsim(100000, flips=16, 4)\u001b[0m\n\u001b[1;37m                             ^\u001b[0m\n\u001b[1;31mSyntaxError\u001b[0m\u001b[1;31m:\u001b[0m positional argument follows keyword argument\n"
     ]
    }
   ],
   "source": [
    "coinsim(100000, flips=16, 4)"
   ]
  },
  {
   "cell_type": "markdown",
   "metadata": {},
   "source": [
    "Now let's see how long it takes to run this function. We will use Jupyter's built-in ```%timeit``` magic:"
   ]
  },
  {
   "cell_type": "code",
   "execution_count": 9,
   "metadata": {},
   "outputs": [
    {
     "name": "stdout",
     "output_type": "stream",
     "text": [
      "Relative frequency of  6  or fewer heads is  0.0579\n",
      "Relative frequency of  6  or fewer heads is  0.057468\n",
      "Relative frequency of  6  or fewer heads is  0.057976\n",
      "Relative frequency of  6  or fewer heads is  0.057804\n",
      "Relative frequency of  6  or fewer heads is  0.057365\n",
      "Relative frequency of  6  or fewer heads is  0.057753\n",
      "Relative frequency of  6  or fewer heads is  0.057691\n",
      "Relative frequency of  6  or fewer heads is  0.057894\n",
      "4.39 s ± 24.5 ms per loop (mean ± std. dev. of 7 runs, 1 loop each)\n"
     ]
    }
   ],
   "source": [
    "%timeit coinsim()"
   ]
  },
  {
   "cell_type": "markdown",
   "metadata": {},
   "source": [
    "If you have programmed in Matlab, you may have heard to avoid ```for``` loops because they slow everything down. The same is true in Python. Instead, we replace the lists with 2-D arrays, where one dimension is for the different dice, and the other dimension is for the different experiments.\n",
    "\n",
    "Since we are creating an *array* of values, we will be generating 1s and 0s instead of 'H's and 'T's.  We will use the ```numpy.random``` module. It will be convenient to import it as ```npr```. We will also use other parts of ```numpy```, so we will import it as ```np```, as usual:"
   ]
  },
  {
   "cell_type": "code",
   "execution_count": 10,
   "metadata": {},
   "outputs": [],
   "source": [
    "import numpy.random as npr\n",
    "import numpy as np"
   ]
  },
  {
   "cell_type": "markdown",
   "metadata": {},
   "source": [
    "Let's start by simulating flipping a fair coin 20 times again. Here we just randomly choose 20 random values that are equally likely to be 0 (representing tails) or 1 (representing heads). We use the ```randint()``` method:"
   ]
  },
  {
   "cell_type": "code",
   "execution_count": 11,
   "metadata": {},
   "outputs": [
    {
     "data": {
      "text/plain": [
       "array([1, 1, 0, 1, 1, 1, 1, 0, 1, 0, 1, 1, 1, 0, 1, 1, 0, 0, 0, 1])"
      ]
     },
     "execution_count": 11,
     "metadata": {},
     "output_type": "execute_result"
    }
   ],
   "source": [
    "npr.randint(2, size=20)"
   ]
  },
  {
   "cell_type": "markdown",
   "metadata": {},
   "source": [
    "Now, we can generate multiple rows like this by changing the size to a tuple. The tuple is interpreted as (rows, columns), so to conduct 5 simulations, we can do:"
   ]
  },
  {
   "cell_type": "code",
   "execution_count": 16,
   "metadata": {},
   "outputs": [
    {
     "data": {
      "text/plain": [
       "array([[1, 0, 1, 1, 1, 1, 0, 0, 0, 0, 0, 0, 1, 1, 1, 1, 1, 0, 0, 0],\n",
       "       [1, 0, 0, 0, 0, 1, 1, 0, 0, 0, 0, 1, 0, 1, 1, 0, 0, 0, 1, 1],\n",
       "       [0, 1, 0, 0, 0, 1, 0, 0, 0, 0, 0, 1, 0, 1, 0, 0, 1, 1, 1, 0],\n",
       "       [1, 0, 0, 0, 0, 1, 1, 1, 0, 1, 1, 0, 0, 1, 1, 1, 0, 1, 0, 1],\n",
       "       [0, 1, 1, 1, 0, 1, 1, 1, 0, 1, 0, 1, 1, 1, 0, 0, 0, 1, 1, 1]])"
      ]
     },
     "execution_count": 16,
     "metadata": {},
     "output_type": "execute_result"
    }
   ],
   "source": [
    "results = npr.randint(2, size=(5,20))\n",
    "results"
   ]
  },
  {
   "cell_type": "markdown",
   "metadata": {},
   "source": [
    "Next, we need to learn how to translate the simulated coin flips into the counts of the number of heads. We can do that by summing across the columns. The rows are dimension 0, and the columns are dimension 1. We can use numpy's sum method to carry out the sum over the columns as follows:"
   ]
  },
  {
   "cell_type": "code",
   "execution_count": 17,
   "metadata": {},
   "outputs": [
    {
     "data": {
      "text/plain": [
       "49"
      ]
     },
     "execution_count": 17,
     "metadata": {},
     "output_type": "execute_result"
    }
   ],
   "source": [
    "np.sum(results)"
   ]
  },
  {
   "cell_type": "code",
   "execution_count": 19,
   "metadata": {},
   "outputs": [
    {
     "data": {
      "text/plain": [
       "array([10,  8,  7, 11, 13])"
      ]
     },
     "execution_count": 19,
     "metadata": {},
     "output_type": "execute_result"
    }
   ],
   "source": [
    "num_heads = np.sum(results, axis=1)\n",
    "num_heads"
   ]
  },
  {
   "cell_type": "markdown",
   "metadata": {},
   "source": [
    "We can perform comparisons on numpy arrays, and it will compare every element:"
   ]
  },
  {
   "cell_type": "code",
   "execution_count": 20,
   "metadata": {},
   "outputs": [
    {
     "data": {
      "text/plain": [
       "array([False,  True,  True, False, False])"
      ]
     },
     "execution_count": 20,
     "metadata": {},
     "output_type": "execute_result"
    }
   ],
   "source": [
    "num_heads<10"
   ]
  },
  {
   "cell_type": "markdown",
   "metadata": {},
   "source": [
    "If we sum over an array of True/False values, it will treat True as 1 and False as 0. Thus, we can count how many items satisfy some condition easily:"
   ]
  },
  {
   "cell_type": "code",
   "execution_count": 22,
   "metadata": {},
   "outputs": [
    {
     "data": {
      "text/plain": [
       "2"
      ]
     },
     "execution_count": 22,
     "metadata": {},
     "output_type": "execute_result"
    }
   ],
   "source": [
    "np.sum(num_heads<10)"
   ]
  },
  {
   "cell_type": "markdown",
   "metadata": {},
   "source": [
    "Now we are ready to put all of that into practice. Let's make a new function using these principles:"
   ]
  },
  {
   "cell_type": "code",
   "execution_count": 23,
   "metadata": {},
   "outputs": [],
   "source": [
    "def coinsim2(num_sims=1000000, flips=20, threshold=6):\n",
    "\n",
    "    results = npr.randint(2,size=(num_sims,flips))\n",
    "    num_heads=np.sum(results, axis=1)\n",
    "    event_count = np.sum(num_heads<=threshold)\n",
    "\n",
    "    print(\"Relative frequency of \",threshold,\" or fewer heads is \", event_count/num_sims)"
   ]
  },
  {
   "cell_type": "code",
   "execution_count": 24,
   "metadata": {},
   "outputs": [
    {
     "name": "stdout",
     "output_type": "stream",
     "text": [
      "Relative frequency of  6  or fewer heads is  0.05766\n"
     ]
    }
   ],
   "source": [
    "coinsim2()"
   ]
  },
  {
   "cell_type": "code",
   "execution_count": 25,
   "metadata": {},
   "outputs": [
    {
     "name": "stdout",
     "output_type": "stream",
     "text": [
      "Relative frequency of  6  or fewer heads is  0.057475\n",
      "Relative frequency of  6  or fewer heads is  0.057602\n",
      "Relative frequency of  6  or fewer heads is  0.057811\n",
      "Relative frequency of  6  or fewer heads is  0.057482\n",
      "Relative frequency of  6  or fewer heads is  0.057446\n",
      "Relative frequency of  6  or fewer heads is  0.058163\n",
      "Relative frequency of  6  or fewer heads is  0.05793\n",
      "Relative frequency of  6  or fewer heads is  0.057349\n",
      "Relative frequency of  6  or fewer heads is  0.057563\n",
      "Relative frequency of  6  or fewer heads is  0.057738\n",
      "Relative frequency of  6  or fewer heads is  0.057716\n",
      "Relative frequency of  6  or fewer heads is  0.057751\n",
      "Relative frequency of  6  or fewer heads is  0.057729\n",
      "Relative frequency of  6  or fewer heads is  0.057635\n",
      "Relative frequency of  6  or fewer heads is  0.057435\n",
      "Relative frequency of  6  or fewer heads is  0.057227\n",
      "Relative frequency of  6  or fewer heads is  0.057901\n",
      "Relative frequency of  6  or fewer heads is  0.057381\n",
      "Relative frequency of  6  or fewer heads is  0.057759\n",
      "Relative frequency of  6  or fewer heads is  0.057698\n",
      "Relative frequency of  6  or fewer heads is  0.058468\n",
      "Relative frequency of  6  or fewer heads is  0.057544\n",
      "Relative frequency of  6  or fewer heads is  0.057478\n",
      "Relative frequency of  6  or fewer heads is  0.057326\n",
      "Relative frequency of  6  or fewer heads is  0.057518\n",
      "Relative frequency of  6  or fewer heads is  0.058026\n",
      "Relative frequency of  6  or fewer heads is  0.057506\n",
      "Relative frequency of  6  or fewer heads is  0.057239\n",
      "Relative frequency of  6  or fewer heads is  0.057471\n",
      "Relative frequency of  6  or fewer heads is  0.057574\n",
      "Relative frequency of  6  or fewer heads is  0.057987\n",
      "Relative frequency of  6  or fewer heads is  0.058012\n",
      "Relative frequency of  6  or fewer heads is  0.057419\n",
      "Relative frequency of  6  or fewer heads is  0.058007\n",
      "Relative frequency of  6  or fewer heads is  0.057637\n",
      "Relative frequency of  6  or fewer heads is  0.057575\n",
      "Relative frequency of  6  or fewer heads is  0.057763\n",
      "Relative frequency of  6  or fewer heads is  0.057739\n",
      "Relative frequency of  6  or fewer heads is  0.057712\n",
      "Relative frequency of  6  or fewer heads is  0.057867\n",
      "Relative frequency of  6  or fewer heads is  0.05785\n",
      "Relative frequency of  6  or fewer heads is  0.057562\n",
      "Relative frequency of  6  or fewer heads is  0.057431\n",
      "Relative frequency of  6  or fewer heads is  0.057202\n",
      "Relative frequency of  6  or fewer heads is  0.057839\n",
      "Relative frequency of  6  or fewer heads is  0.057915\n",
      "Relative frequency of  6  or fewer heads is  0.057521\n",
      "Relative frequency of  6  or fewer heads is  0.057758\n",
      "Relative frequency of  6  or fewer heads is  0.057308\n",
      "Relative frequency of  6  or fewer heads is  0.057489\n",
      "Relative frequency of  6  or fewer heads is  0.057447\n",
      "Relative frequency of  6  or fewer heads is  0.057917\n",
      "Relative frequency of  6  or fewer heads is  0.057526\n",
      "Relative frequency of  6  or fewer heads is  0.057905\n",
      "Relative frequency of  6  or fewer heads is  0.057375\n",
      "Relative frequency of  6  or fewer heads is  0.057544\n",
      "Relative frequency of  6  or fewer heads is  0.057685\n",
      "Relative frequency of  6  or fewer heads is  0.05753\n",
      "Relative frequency of  6  or fewer heads is  0.057185\n",
      "Relative frequency of  6  or fewer heads is  0.057356\n",
      "Relative frequency of  6  or fewer heads is  0.057834\n",
      "Relative frequency of  6  or fewer heads is  0.057367\n",
      "Relative frequency of  6  or fewer heads is  0.057994\n",
      "Relative frequency of  6  or fewer heads is  0.057425\n",
      "Relative frequency of  6  or fewer heads is  0.057788\n",
      "Relative frequency of  6  or fewer heads is  0.057311\n",
      "Relative frequency of  6  or fewer heads is  0.057199\n",
      "Relative frequency of  6  or fewer heads is  0.057516\n",
      "Relative frequency of  6  or fewer heads is  0.057302\n",
      "Relative frequency of  6  or fewer heads is  0.057493\n",
      "Relative frequency of  6  or fewer heads is  0.0575\n",
      "Relative frequency of  6  or fewer heads is  0.057488\n",
      "Relative frequency of  6  or fewer heads is  0.058016\n",
      "Relative frequency of  6  or fewer heads is  0.057826\n",
      "Relative frequency of  6  or fewer heads is  0.057398\n",
      "Relative frequency of  6  or fewer heads is  0.057757\n",
      "Relative frequency of  6  or fewer heads is  0.057615\n",
      "Relative frequency of  6  or fewer heads is  0.057442\n",
      "Relative frequency of  6  or fewer heads is  0.057747\n",
      "Relative frequency of  6  or fewer heads is  0.057404\n",
      "Relative frequency of  6  or fewer heads is  0.057543\n",
      "98.9 ms ± 647 µs per loop (mean ± std. dev. of 7 runs, 10 loops each)\n"
     ]
    }
   ],
   "source": [
    "%timeit coinsim2()"
   ]
  },
  {
   "cell_type": "markdown",
   "metadata": {},
   "source": [
    "That is about a 45 times speed up!"
   ]
  },
  {
   "cell_type": "code",
   "execution_count": null,
   "metadata": {},
   "outputs": [],
   "source": []
  }
 ],
 "metadata": {
  "kernelspec": {
   "display_name": "Python 3",
   "language": "python",
   "name": "python3"
  },
  "language_info": {
   "codemirror_mode": {
    "name": "ipython",
    "version": 3
   },
   "file_extension": ".py",
   "mimetype": "text/x-python",
   "name": "python",
   "nbconvert_exporter": "python",
   "pygments_lexer": "ipython3",
   "version": "3.8.3"
  },
  "latex_envs": {
   "LaTeX_envs_menu_present": true,
   "autoclose": false,
   "autocomplete": true,
   "bibliofile": "biblio.bib",
   "cite_by": "apalike",
   "current_citInitial": 1,
   "eqLabelWithNumbers": true,
   "eqNumInitial": 1,
   "hotkeys": {
    "equation": "Ctrl-E",
    "itemize": "Ctrl-I"
   },
   "labels_anchors": false,
   "latex_user_defs": false,
   "report_style_numbering": false,
   "user_envs_cfg": false
  },
  "varInspector": {
   "cols": {
    "lenName": 16,
    "lenType": 16,
    "lenVar": 40
   },
   "kernels_config": {
    "python": {
     "delete_cmd_postfix": "",
     "delete_cmd_prefix": "del ",
     "library": "var_list.py",
     "varRefreshCmd": "print(var_dic_list())"
    },
    "r": {
     "delete_cmd_postfix": ") ",
     "delete_cmd_prefix": "rm(",
     "library": "var_list.r",
     "varRefreshCmd": "cat(var_dic_list()) "
    }
   },
   "types_to_exclude": [
    "module",
    "function",
    "builtin_function_or_method",
    "instance",
    "_Feature"
   ],
   "window_display": false
  }
 },
 "nbformat": 4,
 "nbformat_minor": 2
}
